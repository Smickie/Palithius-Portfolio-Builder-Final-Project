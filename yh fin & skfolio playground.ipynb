{
 "cells": [
  {
   "cell_type": "code",
   "execution_count": 10,
   "id": "f8c181e1",
   "metadata": {},
   "outputs": [],
   "source": [
    "import yfinance as yf\n",
    "from datetime import datetime, timedelta"
   ]
  },
  {
   "cell_type": "code",
   "execution_count": 11,
   "id": "0276c74a",
   "metadata": {},
   "outputs": [],
   "source": [
    "today = datetime.now()\n",
    "\n",
    "one_year_ago = today - timedelta(days=365)"
   ]
  },
  {
   "cell_type": "code",
   "execution_count": 77,
   "id": "b772c393",
   "metadata": {},
   "outputs": [],
   "source": [
    "lst = [\"AAK.ST\", \"ACTI.ST\", \"ABB.ST\", \"SIVE.ST\", \"AAK.ST\"]"
   ]
  },
  {
   "cell_type": "code",
   "execution_count": 78,
   "id": "c58a8e26",
   "metadata": {},
   "outputs": [
    {
     "name": "stderr",
     "output_type": "stream",
     "text": [
      "[*********************100%%**********************]  4 of 4 completed\n"
     ]
    }
   ],
   "source": [
    "stocks = yf.download(lst, start = \"2008-03-14\", end = today)"
   ]
  },
  {
   "cell_type": "code",
   "execution_count": 80,
   "id": "69a69877",
   "metadata": {
    "scrolled": true
   },
   "outputs": [],
   "source": [
    "stocks = stocks[\"Close\"]"
   ]
  },
  {
   "cell_type": "code",
   "execution_count": 81,
   "id": "16feb51e",
   "metadata": {},
   "outputs": [
    {
     "data": {
      "text/html": [
       "<div>\n",
       "<style scoped>\n",
       "    .dataframe tbody tr th:only-of-type {\n",
       "        vertical-align: middle;\n",
       "    }\n",
       "\n",
       "    .dataframe tbody tr th {\n",
       "        vertical-align: top;\n",
       "    }\n",
       "\n",
       "    .dataframe thead th {\n",
       "        text-align: right;\n",
       "    }\n",
       "</style>\n",
       "<table border=\"1\" class=\"dataframe\">\n",
       "  <thead>\n",
       "    <tr style=\"text-align: right;\">\n",
       "      <th>Ticker</th>\n",
       "      <th>AAK.ST</th>\n",
       "      <th>ABB.ST</th>\n",
       "      <th>ACTI.ST</th>\n",
       "      <th>SIVE.ST</th>\n",
       "    </tr>\n",
       "    <tr>\n",
       "      <th>Date</th>\n",
       "      <th></th>\n",
       "      <th></th>\n",
       "      <th></th>\n",
       "      <th></th>\n",
       "    </tr>\n",
       "  </thead>\n",
       "  <tbody>\n",
       "    <tr>\n",
       "      <th>2008-03-14</th>\n",
       "      <td>25.000000</td>\n",
       "      <td>148.182678</td>\n",
       "      <td>29.086147</td>\n",
       "      <td>NaN</td>\n",
       "    </tr>\n",
       "    <tr>\n",
       "      <th>2008-03-17</th>\n",
       "      <td>25.333332</td>\n",
       "      <td>139.790451</td>\n",
       "      <td>28.358994</td>\n",
       "      <td>NaN</td>\n",
       "    </tr>\n",
       "    <tr>\n",
       "      <th>2008-03-18</th>\n",
       "      <td>25.666666</td>\n",
       "      <td>144.825790</td>\n",
       "      <td>28.116610</td>\n",
       "      <td>NaN</td>\n",
       "    </tr>\n",
       "    <tr>\n",
       "      <th>2008-03-19</th>\n",
       "      <td>26.583332</td>\n",
       "      <td>144.825790</td>\n",
       "      <td>28.116610</td>\n",
       "      <td>NaN</td>\n",
       "    </tr>\n",
       "    <tr>\n",
       "      <th>2008-03-20</th>\n",
       "      <td>25.833332</td>\n",
       "      <td>141.948456</td>\n",
       "      <td>29.086147</td>\n",
       "      <td>NaN</td>\n",
       "    </tr>\n",
       "    <tr>\n",
       "      <th>...</th>\n",
       "      <td>...</td>\n",
       "      <td>...</td>\n",
       "      <td>...</td>\n",
       "      <td>...</td>\n",
       "    </tr>\n",
       "    <tr>\n",
       "      <th>2024-03-07</th>\n",
       "      <td>227.000000</td>\n",
       "      <td>475.600006</td>\n",
       "      <td>0.536000</td>\n",
       "      <td>3.948</td>\n",
       "    </tr>\n",
       "    <tr>\n",
       "      <th>2024-03-08</th>\n",
       "      <td>226.800003</td>\n",
       "      <td>477.299988</td>\n",
       "      <td>0.510000</td>\n",
       "      <td>3.890</td>\n",
       "    </tr>\n",
       "    <tr>\n",
       "      <th>2024-03-11</th>\n",
       "      <td>230.000000</td>\n",
       "      <td>477.799988</td>\n",
       "      <td>0.530000</td>\n",
       "      <td>3.802</td>\n",
       "    </tr>\n",
       "    <tr>\n",
       "      <th>2024-03-12</th>\n",
       "      <td>236.199997</td>\n",
       "      <td>484.399994</td>\n",
       "      <td>0.581000</td>\n",
       "      <td>3.620</td>\n",
       "    </tr>\n",
       "    <tr>\n",
       "      <th>2024-03-13</th>\n",
       "      <td>236.199997</td>\n",
       "      <td>490.100006</td>\n",
       "      <td>0.580000</td>\n",
       "      <td>3.894</td>\n",
       "    </tr>\n",
       "  </tbody>\n",
       "</table>\n",
       "<p>4023 rows × 4 columns</p>\n",
       "</div>"
      ],
      "text/plain": [
       "Ticker          AAK.ST      ABB.ST    ACTI.ST  SIVE.ST\n",
       "Date                                                  \n",
       "2008-03-14   25.000000  148.182678  29.086147      NaN\n",
       "2008-03-17   25.333332  139.790451  28.358994      NaN\n",
       "2008-03-18   25.666666  144.825790  28.116610      NaN\n",
       "2008-03-19   26.583332  144.825790  28.116610      NaN\n",
       "2008-03-20   25.833332  141.948456  29.086147      NaN\n",
       "...                ...         ...        ...      ...\n",
       "2024-03-07  227.000000  475.600006   0.536000    3.948\n",
       "2024-03-08  226.800003  477.299988   0.510000    3.890\n",
       "2024-03-11  230.000000  477.799988   0.530000    3.802\n",
       "2024-03-12  236.199997  484.399994   0.581000    3.620\n",
       "2024-03-13  236.199997  490.100006   0.580000    3.894\n",
       "\n",
       "[4023 rows x 4 columns]"
      ]
     },
     "execution_count": 81,
     "metadata": {},
     "output_type": "execute_result"
    }
   ],
   "source": [
    "stocks"
   ]
  },
  {
   "cell_type": "code",
   "execution_count": 72,
   "id": "8534dc2d",
   "metadata": {},
   "outputs": [
    {
     "data": {
      "text/plain": [
       "array([2790, 1233])"
      ]
     },
     "execution_count": 72,
     "metadata": {},
     "output_type": "execute_result"
    }
   ],
   "source": [
    "stocks.isna().value_counts().values"
   ]
  },
  {
   "cell_type": "code",
   "execution_count": 82,
   "id": "80a352b0",
   "metadata": {},
   "outputs": [
    {
     "data": {
      "text/plain": [
       "Index(['AAK.ST', 'ABB.ST', 'ACTI.ST', 'SIVE.ST'], dtype='object', name='Ticker')"
      ]
     },
     "execution_count": 82,
     "metadata": {},
     "output_type": "execute_result"
    }
   ],
   "source": [
    "stocks.columns"
   ]
  },
  {
   "cell_type": "code",
   "execution_count": 83,
   "id": "3645d0d4",
   "metadata": {},
   "outputs": [
    {
     "data": {
      "text/plain": [
       "['SIVE.ST', 'ABB.ST', 'ACTI.ST', 'AAK.ST']"
      ]
     },
     "execution_count": 83,
     "metadata": {},
     "output_type": "execute_result"
    }
   ],
   "source": [
    "list(set(stocks))"
   ]
  },
  {
   "cell_type": "code",
   "execution_count": null,
   "id": "1c6f90a4",
   "metadata": {},
   "outputs": [],
   "source": []
  },
  {
   "cell_type": "code",
   "execution_count": 19,
   "id": "471865e6",
   "metadata": {},
   "outputs": [],
   "source": [
    "# Let's see if this works with SKFOLIO"
   ]
  },
  {
   "cell_type": "code",
   "execution_count": 20,
   "id": "591aa304",
   "metadata": {},
   "outputs": [],
   "source": [
    "from sklearn import set_config\n",
    "from sklearn.model_selection import (\n",
    "    GridSearchCV,\n",
    "    KFold,\n",
    "    RandomizedSearchCV,\n",
    "    train_test_split,\n",
    ")\n",
    "from sklearn.pipeline import Pipeline\n",
    "from scipy.stats import loguniform\n",
    "\n",
    "from skfolio import RatioMeasure, RiskMeasure\n",
    "from skfolio.model_selection import (\n",
    "    CombinatorialPurgedCV,\n",
    "    WalkForward,\n",
    "    cross_val_predict,\n",
    ")\n",
    "from skfolio.moments import (\n",
    "    DenoiseCovariance,\n",
    "    DetoneCovariance,\n",
    "    EWMu,\n",
    "    GerberCovariance,\n",
    "    ShrunkMu,\n",
    ")\n",
    "from skfolio.optimization import (\n",
    "    MeanRisk,\n",
    "    NestedClustersOptimization,\n",
    "    ObjectiveFunction,\n",
    "    RiskBudgeting,\n",
    ")\n",
    "\n",
    "from skfolio.pre_selection import SelectKExtremes\n",
    "from skfolio.preprocessing import prices_to_returns\n",
    "from skfolio.prior import BlackLitterman, EmpiricalPrior, FactorModel\n",
    "from skfolio.uncertainty_set import BootstrapMuUncertaintySet\n",
    "\n",
    "from sklearn.model_selection import train_test_split\n",
    "\n",
    "from skfolio import RiskMeasure\n",
    "from skfolio.datasets import load_sp500_dataset\n",
    "from skfolio.optimization import MeanRisk, ObjectiveFunction\n",
    "from skfolio.preprocessing import prices_to_returns"
   ]
  },
  {
   "cell_type": "code",
   "execution_count": 42,
   "id": "e995220f",
   "metadata": {},
   "outputs": [],
   "source": [
    "X = prices_to_returns(stocks)\n",
    "X_train, X_test = train_test_split(X, test_size=0.33, shuffle=False)"
   ]
  },
  {
   "cell_type": "code",
   "execution_count": 43,
   "id": "eb6c89c9",
   "metadata": {},
   "outputs": [],
   "source": [
    "model = MeanRisk()"
   ]
  },
  {
   "cell_type": "code",
   "execution_count": 44,
   "id": "4da56115",
   "metadata": {},
   "outputs": [
    {
     "name": "stdout",
     "output_type": "stream",
     "text": [
      "[0.42140856 0.51555159 0.00860594 0.05443391]\n"
     ]
    }
   ],
   "source": [
    "model.fit(X_train)\n",
    "\n",
    "print(model.weights_)"
   ]
  },
  {
   "cell_type": "code",
   "execution_count": 59,
   "id": "95a7564e",
   "metadata": {},
   "outputs": [
    {
     "data": {
      "text/plain": [
       "array([0.42140856, 0.51555159, 0.00860594, 0.05443391])"
      ]
     },
     "execution_count": 59,
     "metadata": {},
     "output_type": "execute_result"
    }
   ],
   "source": [
    "model.weights_"
   ]
  },
  {
   "cell_type": "code",
   "execution_count": 45,
   "id": "2e229806",
   "metadata": {},
   "outputs": [
    {
     "data": {
      "text/plain": [
       "0.9999999999999999"
      ]
     },
     "execution_count": 45,
     "metadata": {},
     "output_type": "execute_result"
    }
   ],
   "source": [
    "sum(model.weights_)"
   ]
  },
  {
   "cell_type": "code",
   "execution_count": 57,
   "id": "af5837fc",
   "metadata": {},
   "outputs": [
    {
     "name": "stdout",
     "output_type": "stream",
     "text": [
      "1.0114245347746817\n",
      "Mean                                            0.071%\n",
      "Annualized Mean                                 17.80%\n",
      "Variance                                        0.012%\n",
      "Annualized Variance                              3.10%\n",
      "Semi-Variance                                  0.0062%\n",
      "Annualized Semi-Variance                         1.56%\n",
      "Standard Deviation                               1.11%\n",
      "Annualized Standard Deviation                   17.60%\n",
      "Semi-Deviation                                   0.79%\n",
      "Annualized Semi-Deviation                       12.49%\n",
      "Mean Absolute Deviation                          0.84%\n",
      "CVaR at 95%                                      2.46%\n",
      "EVaR at 95%                                      2.86%\n",
      "Worst Realization                                3.73%\n",
      "CDaR at 95%                                     22.06%\n",
      "MAX Drawdown                                    24.90%\n",
      "Average Drawdown                                 5.88%\n",
      "EDaR at 95%                                     22.79%\n",
      "First Lower Partial Moment                       0.42%\n",
      "Ulcer Index                                      0.088\n",
      "Gini Mean Difference                             1.22%\n",
      "Value at Risk at 95%                             1.78%\n",
      "Drawdown at Risk at 95%                         20.08%\n",
      "Entropic Risk Measure at 95%                      3.00\n",
      "Fourth Central Moment                        0.000006%\n",
      "Fourth Lower Partial Moment                  0.000003%\n",
      "Skew                                           -0.0054\n",
      "Kurtosis                                          4.19\n",
      "Sharpe Ratio                                     0.064\n",
      "Annualized Sharpe Ratio                           1.01\n",
      "Sortino Ratio                                    0.090\n",
      "Annualized Sortino Ratio                          1.42\n",
      "Mean Absolute Deviation Ratio                    0.084\n",
      "First Lower Partial Moment Ratio                  0.17\n",
      "Value at Risk Ratio at 95%                       0.040\n",
      "CVaR Ratio at 95%                                0.029\n",
      "Entropic Risk Measure Ratio at 95%             0.00024\n",
      "EVaR Ratio at 95%                                0.025\n",
      "Worst Realization Ratio                          0.019\n",
      "Drawdown at Risk Ratio at 95%                   0.0035\n",
      "CDaR Ratio at 95%                               0.0032\n",
      "Calmar Ratio                                    0.0028\n",
      "Average Drawdown Ratio                           0.012\n",
      "EDaR Ratio at 95%                               0.0031\n",
      "Ulcer Index Ratio                               0.0080\n",
      "Gini Mean Difference Ratio                       0.058\n",
      "Effective Number of Assets            2.24006444407991\n",
      "Assets Number                                        4\n",
      "dtype: object\n"
     ]
    },
    {
     "ename": "AttributeError",
     "evalue": "'Portfolio' object has no attribute 'weights_'",
     "output_type": "error",
     "traceback": [
      "\u001b[0;31m---------------------------------------------------------------------------\u001b[0m",
      "\u001b[0;31mAttributeError\u001b[0m                            Traceback (most recent call last)",
      "Cell \u001b[0;32mIn[57], line 5\u001b[0m\n\u001b[1;32m      3\u001b[0m \u001b[38;5;28mprint\u001b[39m(portfolio\u001b[38;5;241m.\u001b[39mannualized_sharpe_ratio)\n\u001b[1;32m      4\u001b[0m \u001b[38;5;28mprint\u001b[39m(portfolio\u001b[38;5;241m.\u001b[39msummary())\n\u001b[0;32m----> 5\u001b[0m \u001b[38;5;28mprint\u001b[39m(portfolio\u001b[38;5;241m.\u001b[39mweights_)\n",
      "File \u001b[0;32m~/anaconda3/lib/python3.11/site-packages/skfolio/portfolio/_base.py:576\u001b[0m, in \u001b[0;36mBasePortfolio.__getattribute__\u001b[0;34m(self, name)\u001b[0m\n\u001b[1;32m    571\u001b[0m \u001b[38;5;28;01mexcept\u001b[39;00m \u001b[38;5;167;01mAttributeError\u001b[39;00m \u001b[38;5;28;01mas\u001b[39;00m e:\n\u001b[1;32m    572\u001b[0m     \u001b[38;5;66;03m# The Measures are the only attributes in __slots__ that are not yet\u001b[39;00m\n\u001b[1;32m    573\u001b[0m     \u001b[38;5;66;03m# assigned.\u001b[39;00m\n\u001b[1;32m    574\u001b[0m     \u001b[38;5;66;03m# We assign their values dynamically the first time they are called.\u001b[39;00m\n\u001b[1;32m    575\u001b[0m     \u001b[38;5;28;01mif\u001b[39;00m name \u001b[38;5;129;01mnot\u001b[39;00m \u001b[38;5;129;01min\u001b[39;00m _MEASURES_VALUES:\n\u001b[0;32m--> 576\u001b[0m         \u001b[38;5;28;01mraise\u001b[39;00m \u001b[38;5;167;01mAttributeError\u001b[39;00m(e) \u001b[38;5;28;01mfrom\u001b[39;00m \u001b[38;5;28;01mNone\u001b[39;00m\n\u001b[1;32m    577\u001b[0m     measure \u001b[38;5;241m=\u001b[39m _MEASURES_VALUES[name]\n\u001b[1;32m    578\u001b[0m     value \u001b[38;5;241m=\u001b[39m \u001b[38;5;28mself\u001b[39m\u001b[38;5;241m.\u001b[39mget_measure(measure\u001b[38;5;241m=\u001b[39mmeasure)\n",
      "\u001b[0;31mAttributeError\u001b[0m: 'Portfolio' object has no attribute 'weights_'"
     ]
    }
   ],
   "source": [
    "portfolio = model.predict(X_test)\n",
    "\n",
    "print(portfolio.annualized_sharpe_ratio)\n",
    "print(portfolio.summary())\n",
    "print(portfolio.weights_)"
   ]
  },
  {
   "cell_type": "code",
   "execution_count": 68,
   "id": "a08ffc03",
   "metadata": {},
   "outputs": [],
   "source": [
    "def portfolio_optimator(mod, data):\n",
    "    \n",
    "    X = prices_to_returns(data)\n",
    "    X_train, X_test = train_test_split(X, test_size=0.33, shuffle=False)\n",
    "    \n",
    "    model = mod\n",
    "    \n",
    "    return model.fit(X_train)"
   ]
  },
  {
   "cell_type": "code",
   "execution_count": 114,
   "id": "99d35eee",
   "metadata": {},
   "outputs": [],
   "source": [
    "import pandas as pd"
   ]
  },
  {
   "cell_type": "code",
   "execution_count": 115,
   "id": "ecd654bd",
   "metadata": {},
   "outputs": [],
   "source": [
    "s = portfolio_optimator(MeanRisk(), stocks)"
   ]
  },
  {
   "cell_type": "code",
   "execution_count": 116,
   "id": "42b66e31",
   "metadata": {},
   "outputs": [],
   "source": [
    "va = s.weights_"
   ]
  },
  {
   "cell_type": "code",
   "execution_count": 117,
   "id": "1b0cea57",
   "metadata": {},
   "outputs": [],
   "source": [
    "po = pd.DataFrame(va, columns=['Weight'])\n",
    "po[\"ticker\"] = stocks.columns\n"
   ]
  },
  {
   "cell_type": "code",
   "execution_count": 118,
   "id": "c270c3e3",
   "metadata": {},
   "outputs": [
    {
     "data": {
      "text/html": [
       "<div>\n",
       "<style scoped>\n",
       "    .dataframe tbody tr th:only-of-type {\n",
       "        vertical-align: middle;\n",
       "    }\n",
       "\n",
       "    .dataframe tbody tr th {\n",
       "        vertical-align: top;\n",
       "    }\n",
       "\n",
       "    .dataframe thead th {\n",
       "        text-align: right;\n",
       "    }\n",
       "</style>\n",
       "<table border=\"1\" class=\"dataframe\">\n",
       "  <thead>\n",
       "    <tr style=\"text-align: right;\">\n",
       "      <th></th>\n",
       "      <th>Weight</th>\n",
       "      <th>ticker</th>\n",
       "    </tr>\n",
       "  </thead>\n",
       "  <tbody>\n",
       "    <tr>\n",
       "      <th>0</th>\n",
       "      <td>0.421409</td>\n",
       "      <td>AAK.ST</td>\n",
       "    </tr>\n",
       "    <tr>\n",
       "      <th>1</th>\n",
       "      <td>0.515552</td>\n",
       "      <td>ABB.ST</td>\n",
       "    </tr>\n",
       "    <tr>\n",
       "      <th>2</th>\n",
       "      <td>0.008606</td>\n",
       "      <td>ACTI.ST</td>\n",
       "    </tr>\n",
       "    <tr>\n",
       "      <th>3</th>\n",
       "      <td>0.054434</td>\n",
       "      <td>SIVE.ST</td>\n",
       "    </tr>\n",
       "  </tbody>\n",
       "</table>\n",
       "</div>"
      ],
      "text/plain": [
       "     Weight   ticker\n",
       "0  0.421409   AAK.ST\n",
       "1  0.515552   ABB.ST\n",
       "2  0.008606  ACTI.ST\n",
       "3  0.054434  SIVE.ST"
      ]
     },
     "execution_count": 118,
     "metadata": {},
     "output_type": "execute_result"
    }
   ],
   "source": [
    "po"
   ]
  },
  {
   "cell_type": "code",
   "execution_count": null,
   "id": "71b97405",
   "metadata": {},
   "outputs": [],
   "source": [
    "from sklearn.model_selection import train_test_split\n",
    "\n",
    "from skfolio.datasets import load_factors_dataset, load_sp500_dataset\n",
    "from skfolio.optimization import MeanRisk\n",
    "from skfolio.preprocessing import prices_to_returns\n",
    "from skfolio.prior import FactorModel\n",
    "\n",
    "prices = load_sp500_dataset()\n",
    "factor_prices = load_factors_dataset()\n",
    "\n",
    "X, y = prices_to_returns(prices, factor_prices)\n",
    "X_train, X_test, y_train, y_test = train_test_split(X, y, test_size=0.33, shuffle=False)\n",
    "\n",
    "model = MeanRisk(prior_estimator=FactorModel())\n",
    "model.fit(X_train, y_train)\n",
    "print(model.weights_)\n",
    "\n",
    "portfolio = model.predict(X_test)\n",
    "print(portfolio.annualized_sharpe_ratio)"
   ]
  },
  {
   "cell_type": "code",
   "execution_count": 119,
   "id": "e7706f1c",
   "metadata": {},
   "outputs": [
    {
     "name": "stdout",
     "output_type": "stream",
     "text": [
      "[7.06488513e-01 1.10213844e-01 6.30407714e-10 1.83297642e-01]\n",
      "Mean                                              0.047%\n",
      "Annualized Mean                                   11.77%\n",
      "Variance                                          0.021%\n",
      "Annualized Variance                                5.30%\n",
      "Semi-Variance                                    0.0095%\n",
      "Annualized Semi-Variance                           2.40%\n",
      "Standard Deviation                                 1.45%\n",
      "Annualized Standard Deviation                     23.03%\n",
      "Semi-Deviation                                     0.98%\n",
      "Annualized Semi-Deviation                         15.50%\n",
      "Mean Absolute Deviation                            1.07%\n",
      "CVaR at 95%                                        3.02%\n",
      "EVaR at 95%                                        4.21%\n",
      "Worst Realization                                  6.77%\n",
      "CDaR at 95%                                       35.23%\n",
      "MAX Drawdown                                      40.96%\n",
      "Average Drawdown                                  11.52%\n",
      "EDaR at 95%                                       36.45%\n",
      "First Lower Partial Moment                         0.53%\n",
      "Ulcer Index                                         0.16\n",
      "Gini Mean Difference                               1.55%\n",
      "Value at Risk at 95%                               2.15%\n",
      "Drawdown at Risk at 95%                           32.31%\n",
      "Entropic Risk Measure at 95%                        3.00\n",
      "Fourth Central Moment                          0.000031%\n",
      "Fourth Lower Partial Moment                    0.000009%\n",
      "Skew                                                0.56\n",
      "Kurtosis                                            7.01\n",
      "Sharpe Ratio                                       0.032\n",
      "Annualized Sharpe Ratio                             0.51\n",
      "Sortino Ratio                                      0.048\n",
      "Annualized Sortino Ratio                            0.76\n",
      "Mean Absolute Deviation Ratio                      0.044\n",
      "First Lower Partial Moment Ratio                   0.088\n",
      "Value at Risk Ratio at 95%                         0.022\n",
      "CVaR Ratio at 95%                                  0.015\n",
      "Entropic Risk Measure Ratio at 95%               0.00016\n",
      "EVaR Ratio at 95%                                  0.011\n",
      "Worst Realization Ratio                           0.0069\n",
      "Drawdown at Risk Ratio at 95%                     0.0014\n",
      "CDaR Ratio at 95%                                 0.0013\n",
      "Calmar Ratio                                      0.0011\n",
      "Average Drawdown Ratio                            0.0041\n",
      "EDaR Ratio at 95%                                 0.0013\n",
      "Ulcer Index Ratio                                 0.0030\n",
      "Gini Mean Difference Ratio                         0.030\n",
      "Effective Number of Assets            1.8352963354414298\n",
      "Assets Number                                          4\n",
      "dtype: object\n"
     ]
    }
   ],
   "source": [
    "X = prices_to_returns(stocks)\n",
    "X_train, X_test = train_test_split(X, test_size=0.33, shuffle=False)\n",
    "\n",
    "dct = [0.5, 0, 0, 0]\n",
    "\n",
    "model = MeanRisk(\n",
    "    objective_function=ObjectiveFunction.MAXIMIZE_RATIO,\n",
    "    risk_measure=RiskMeasure.STANDARD_DEVIATION,\n",
    "    min_weights=dct)\n",
    "\n",
    "\n",
    "model.fit(X_train)\n",
    "print(model.weights_)\n",
    "\n",
    "portfolio = model.predict(X_test)\n",
    "print(portfolio.summary())"
   ]
  },
  {
   "cell_type": "code",
   "execution_count": 161,
   "id": "872310a2",
   "metadata": {},
   "outputs": [
    {
     "data": {
      "text/plain": [
       "0.021516277122340784"
      ]
     },
     "execution_count": 161,
     "metadata": {},
     "output_type": "execute_result"
    }
   ],
   "source": [
    "portfolio.value_at_risk"
   ]
  },
  {
   "cell_type": "code",
   "execution_count": 121,
   "id": "488fad36",
   "metadata": {},
   "outputs": [
    {
     "data": {
      "text/plain": [
       "0.510980443101332"
      ]
     },
     "execution_count": 121,
     "metadata": {},
     "output_type": "execute_result"
    }
   ],
   "source": [
    "portfolio.annualized_sharpe_ratio"
   ]
  },
  {
   "cell_type": "code",
   "execution_count": 102,
   "id": "30b6fdf3",
   "metadata": {},
   "outputs": [
    {
     "data": {
      "text/plain": [
       "0.0321899628468023"
      ]
     },
     "execution_count": 102,
     "metadata": {},
     "output_type": "execute_result"
    }
   ],
   "source": [
    "portfolio.sharpe_ratio"
   ]
  },
  {
   "cell_type": "code",
   "execution_count": 111,
   "id": "33a0b863",
   "metadata": {},
   "outputs": [
    {
     "data": {
      "text/plain": [
       "4023"
      ]
     },
     "execution_count": 111,
     "metadata": {},
     "output_type": "execute_result"
    }
   ],
   "source": [
    "len(stocks)"
   ]
  },
  {
   "cell_type": "code",
   "execution_count": 112,
   "id": "b697e96e",
   "metadata": {},
   "outputs": [
    {
     "data": {
      "text/plain": [
       "0.0004615349413380508"
      ]
     },
     "execution_count": 112,
     "metadata": {},
     "output_type": "execute_result"
    }
   ],
   "source": [
    "portfolio.annualized_mean/255"
   ]
  },
  {
   "cell_type": "code",
   "execution_count": 108,
   "id": "feaf4267",
   "metadata": {},
   "outputs": [
    {
     "data": {
      "text/plain": [
       "0.23"
      ]
     },
     "execution_count": 108,
     "metadata": {},
     "output_type": "execute_result"
    }
   ],
   "source": [
    "round(portfolio.annualized_mean, 2)"
   ]
  },
  {
   "cell_type": "code",
   "execution_count": 105,
   "id": "3ea257e4",
   "metadata": {},
   "outputs": [
    {
     "data": {
      "text/plain": [
       "<Axes: xlabel='Date'>"
      ]
     },
     "execution_count": 105,
     "metadata": {},
     "output_type": "execute_result"
    },
    {
     "data": {
      "image/png": "[encoded data removed]",
      "text/plain": [
       "<Figure size 640x480 with 1 Axes>"
      ]
     },
     "metadata": {},
     "output_type": "display_data"
    }
   ],
   "source": [
    "import seaborn as sns\n",
    "\n",
    "sns.lineplot(stocks)"
   ]
  },
  {
   "cell_type": "code",
   "execution_count": 124,
   "id": "6f97dca9",
   "metadata": {},
   "outputs": [
    {
     "data": {
      "text/plain": [
       "<Axes: >"
      ]
     },
     "execution_count": 124,
     "metadata": {},
     "output_type": "execute_result"
    },
    {
     "data": {
      "image/png": "[encoded data removed]",
      "text/plain": [
       "<Figure size 640x480 with 1 Axes>"
      ]
     },
     "metadata": {},
     "output_type": "display_data"
    }
   ],
   "source": [
    "sns.lineplot(portfolio.returns)"
   ]
  },
  {
   "cell_type": "code",
   "execution_count": 125,
   "id": "285086f1",
   "metadata": {},
   "outputs": [
    {
     "data": {
      "text/plain": [
       "array([7.06488513e-01, 1.10213844e-01, 6.30407714e-10, 1.83297642e-01])"
      ]
     },
     "execution_count": 125,
     "metadata": {},
     "output_type": "execute_result"
    }
   ],
   "source": [
    "portfolio.weights"
   ]
  },
  {
   "cell_type": "code",
   "execution_count": 128,
   "id": "d4f23380",
   "metadata": {},
   "outputs": [
    {
     "data": {
      "text/plain": [
       "<Axes: >"
      ]
     },
     "execution_count": 128,
     "metadata": {},
     "output_type": "execute_result"
    },
    {
     "data": {
      "image/png": "[encoded data removed]",
      "text/plain": [
       "<Figure size 640x480 with 1 Axes>"
      ]
     },
     "metadata": {},
     "output_type": "display_data"
    }
   ],
   "source": [
    "import numpy as np\n",
    "\n",
    "temp = np.cumsum(portfolio.returns)\n",
    "\n",
    "sns.lineplot(temp)"
   ]
  },
  {
   "cell_type": "code",
   "execution_count": null,
   "id": "0ab39e73",
   "metadata": {},
   "outputs": [],
   "source": [
    "sns.lineplot()"
   ]
  },
  {
   "cell_type": "code",
   "execution_count": 139,
   "id": "0507e89f",
   "metadata": {},
   "outputs": [
    {
     "data": {
      "text/plain": [
       "<Axes: >"
      ]
     },
     "execution_count": 139,
     "metadata": {},
     "output_type": "execute_result"
    },
    {
     "data": {
      "image/png": "[encoded data removed]",
      "text/plain": [
       "<Figure size 640x480 with 1 Axes>"
      ]
     },
     "metadata": {},
     "output_type": "display_data"
    }
   ],
   "source": [
    "pr = np.cumsum(portfolio.returns)\n",
    "psr = np.cumsum(np.random.normal(portfolio.mean, portfolio.standard_deviation, len(pr)))\n",
    "psr = psr + pr[-1]\n",
    "\n",
    "temp = np.concatenate((pr, psr))\n",
    "\n",
    "sns.lineplot(temp)"
   ]
  },
  {
   "cell_type": "code",
   "execution_count": 141,
   "id": "51af67db",
   "metadata": {},
   "outputs": [
    {
     "data": {
      "text/plain": [
       "Date\n",
       "2008-03-14     25.000000\n",
       "2008-03-17     25.333332\n",
       "2008-03-18     25.666666\n",
       "2008-03-19     26.583332\n",
       "2008-03-20     25.833332\n",
       "                 ...    \n",
       "2024-03-07    227.000000\n",
       "2024-03-08    226.800003\n",
       "2024-03-11    230.000000\n",
       "2024-03-12    236.199997\n",
       "2024-03-13    236.199997\n",
       "Name: AAK.ST, Length: 4023, dtype: float64"
      ]
     },
     "execution_count": 141,
     "metadata": {},
     "output_type": "execute_result"
    }
   ],
   "source": [
    "stocks[\"AAK.ST\"]"
   ]
  },
  {
   "cell_type": "code",
   "execution_count": null,
   "id": "af7e1b94",
   "metadata": {},
   "outputs": [],
   "source": [
    "# Example values for mean daily return and daily volatility\n",
    "mean_daily_return = 0.001  # 0.1%\n",
    "daily_volatility = 0.01   # 1%\n",
    "\n",
    "# Number of days to simulate\n",
    "num_days = 250\n",
    "\n",
    "# Simulate future daily returns\n",
    "simulated_daily_returns = np.random.normal(mean_daily_return, daily_volatility, num_days)\n",
    "\n",
    "# Convert simulated daily returns to cumulative returns\n",
    "simulated_cumulative_returns = np.cumsum(simulated_daily_returns)\n",
    "\n",
    "# Convert to percentage\n",
    "simulated_cumulative_returns_percentage = simulated_cumulative_returns * 100"
   ]
  },
  {
   "cell_type": "code",
   "execution_count": 129,
   "id": "dbdb1287",
   "metadata": {},
   "outputs": [],
   "source": [
    "o = [1, 2, 3, 4, 5]\n",
    "t = [1, 2, 3, 4, 5]"
   ]
  },
  {
   "cell_type": "code",
   "execution_count": 131,
   "id": "d0a244ea",
   "metadata": {},
   "outputs": [
    {
     "data": {
      "text/plain": [
       "[1, 2, 3, 4, 5, 1, 2, 3, 4, 5]"
      ]
     },
     "execution_count": 131,
     "metadata": {},
     "output_type": "execute_result"
    }
   ],
   "source": [
    "o+t"
   ]
  },
  {
   "cell_type": "code",
   "execution_count": 160,
   "id": "6f282055",
   "metadata": {},
   "outputs": [
    {
     "data": {
      "text/plain": [
       "'2008-03-14'"
      ]
     },
     "execution_count": 160,
     "metadata": {},
     "output_type": "execute_result"
    }
   ],
   "source": [
    "str(stocks.index[0])[:10]"
   ]
  },
  {
   "cell_type": "code",
   "execution_count": null,
   "id": "ad720633",
   "metadata": {},
   "outputs": [],
   "source": []
  }
 ],
 "metadata": {
  "kernelspec": {
   "display_name": "Python 3 (ipykernel)",
   "language": "python",
   "name": "python3"
  },
  "language_info": {
   "codemirror_mode": {
    "name": "ipython",
    "version": 3
   },
   "file_extension": ".py",
   "mimetype": "text/x-python",
   "name": "python",
   "nbconvert_exporter": "python",
   "pygments_lexer": "ipython3",
   "version": "3.11.8"
  }
 },
 "nbformat": 4,
 "nbformat_minor": 5
}
